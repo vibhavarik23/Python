{
 "cells": [
  {
   "cell_type": "code",
   "execution_count": 1,
   "id": "d1df3436",
   "metadata": {},
   "outputs": [
    {
     "name": "stdout",
     "output_type": "stream",
     "text": [
      "Hi This is demo notebook.\n"
     ]
    }
   ],
   "source": [
    "print(\"Hi This is demo notebook.\")"
   ]
  },
  {
   "cell_type": "code",
   "execution_count": null,
   "id": "96248c5e",
   "metadata": {},
   "outputs": [],
   "source": []
  }
 ],
 "metadata": {
  "kernelspec": {
   "display_name": "DataScience",
   "language": "python",
   "name": "datascience"
  },
  "language_info": {
   "codemirror_mode": {
    "name": "ipython",
    "version": 3
   },
   "file_extension": ".py",
   "mimetype": "text/x-python",
   "name": "python",
   "nbconvert_exporter": "python",
   "pygments_lexer": "ipython3",
   "version": "3.13.2"
  }
 },
 "nbformat": 4,
 "nbformat_minor": 5
}
