{
 "cells": [
  {
   "cell_type": "markdown",
   "id": "2dc0e46c",
   "metadata": {},
   "source": [
    "Pyton code"
   ]
  },
  {
   "cell_type": "code",
   "execution_count": 5,
   "id": "b558eb2d",
   "metadata": {},
   "outputs": [
    {
     "name": "stdout",
     "output_type": "stream",
     "text": [
      "Enter Value:35\n"
     ]
    }
   ],
   "source": [
    "num1=int(input(\"Enter Value:\"))"
   ]
  },
  {
   "cell_type": "code",
   "execution_count": 6,
   "id": "005dedf4",
   "metadata": {},
   "outputs": [
    {
     "name": "stdout",
     "output_type": "stream",
     "text": [
      "<class 'int'>\n"
     ]
    }
   ],
   "source": [
    "print(type(num1))"
   ]
  },
  {
   "cell_type": "markdown",
   "id": "383d1b5c",
   "metadata": {},
   "source": [
    "# Variable, Case Sensitive, Comment, int, float, string, type and type casting"
   ]
  },
  {
   "cell_type": "code",
   "execution_count": 10,
   "id": "8cefffce",
   "metadata": {},
   "outputs": [
    {
     "name": "stdout",
     "output_type": "stream",
     "text": [
      "56\n",
      "5620.6\n",
      "True\n"
     ]
    }
   ],
   "source": [
    "#Write output of This program\n",
    "A=input()\n",
    "B=20.60\n",
    "C=A+str(B) #Sum\n",
    "print(C)\n",
    "print(type(C) is str)"
   ]
  },
  {
   "cell_type": "markdown",
   "id": "41077457",
   "metadata": {},
   "source": [
    "# Operators"
   ]
  },
  {
   "cell_type": "code",
   "execution_count": 12,
   "id": "1d5ef1c0",
   "metadata": {},
   "outputs": [],
   "source": [
    "A=25\n",
    "B=10\n",
    "C=15.5\n",
    "D=4.4"
   ]
  },
  {
   "cell_type": "code",
   "execution_count": 13,
   "id": "73728901",
   "metadata": {},
   "outputs": [
    {
     "name": "stdout",
     "output_type": "stream",
     "text": [
      "\n",
      "\n",
      "integer integer\n",
      "<class 'int'> 35\n",
      "<class 'int'> 15\n",
      "<class 'int'> 250\n",
      "<class 'float'> 2.5\n",
      "<class 'int'> 2\n",
      "<class 'int'> 5\n"
     ]
    }
   ],
   "source": [
    "print(\"\\n\\ninteger integer\")\n",
    "print(type(A+B),A+B)\n",
    "print(type(A-B),A-B)\n",
    "print(type(A*B),A*B)\n",
    "print(type(A/B),A/B)\n",
    "print(type(A//B),A//B)\n",
    "print(type(A%B),A%B)"
   ]
  },
  {
   "cell_type": "code",
   "execution_count": 14,
   "id": "f1a5c8c5",
   "metadata": {},
   "outputs": [
    {
     "name": "stdout",
     "output_type": "stream",
     "text": [
      "\n",
      "\n",
      "integer float\n",
      "<class 'float'> 40.5\n",
      "<class 'float'> 9.5\n",
      "<class 'float'> 387.5\n",
      "<class 'float'> 1.6129032258064515\n",
      "<class 'float'> 1.0\n",
      "<class 'float'> 9.5\n"
     ]
    }
   ],
   "source": [
    "print(\"\\n\\ninteger float\")\n",
    "print(type(A+C),A+C)\n",
    "print(type(A-C),A-C)\n",
    "print(type(A*C),A*C)\n",
    "print(type(A/C),A/C)\n",
    "print(type(A//C),A//C)\n",
    "print(type(A%C),A%C)"
   ]
  },
  {
   "cell_type": "code",
   "execution_count": 15,
   "id": "4c032ca0",
   "metadata": {},
   "outputs": [
    {
     "name": "stdout",
     "output_type": "stream",
     "text": [
      "\n",
      "\n",
      "float integer\n",
      "<class 'float'> 25.5\n",
      "<class 'float'> 5.5\n",
      "<class 'float'> 155.0\n",
      "<class 'float'> 1.55\n",
      "<class 'float'> 1.0\n",
      "<class 'float'> 5.5\n"
     ]
    }
   ],
   "source": [
    "print(\"\\n\\nfloat integer\")\n",
    "print(type(C+B),C+B)\n",
    "print(type(C-B),C-B)\n",
    "print(type(C*B),C*B)\n",
    "print(type(C/B),C/B)\n",
    "print(type(C//B),C//B)\n",
    "print(type(C%B),C%B)"
   ]
  },
  {
   "cell_type": "code",
   "execution_count": 16,
   "id": "ebceffb3",
   "metadata": {},
   "outputs": [
    {
     "name": "stdout",
     "output_type": "stream",
     "text": [
      "\n",
      "\n",
      "float float\n",
      "<class 'float'> 19.9\n",
      "<class 'float'> 11.1\n",
      "<class 'float'> 68.2\n",
      "<class 'float'> 3.5227272727272725\n",
      "<class 'float'> 3.0\n",
      "<class 'float'> 2.299999999999999\n"
     ]
    }
   ],
   "source": [
    "print(\"\\n\\nfloat float\")\n",
    "print(type(C+D),C+D)\n",
    "print(type(C-D),C-D)\n",
    "print(type(C*D),C*D)\n",
    "print(type(C/D),C/D)\n",
    "print(type(C//D),C//D)\n",
    "print(type(C%D),C%D)"
   ]
  },
  {
   "cell_type": "code",
   "execution_count": 17,
   "id": "e4486c74",
   "metadata": {},
   "outputs": [
    {
     "name": "stdout",
     "output_type": "stream",
     "text": [
      "True\n",
      "True\n",
      "False\n",
      "False\n",
      "False\n",
      "True\n"
     ]
    }
   ],
   "source": [
    "A=40\n",
    "B=20\n",
    "print(A>B)\n",
    "print(A>=B)\n",
    "print(A<B)\n",
    "print(A<=B)\n",
    "print(A==B)\n",
    "print(A!=B)"
   ]
  },
  {
   "cell_type": "code",
   "execution_count": 18,
   "id": "34228064",
   "metadata": {},
   "outputs": [
    {
     "name": "stdout",
     "output_type": "stream",
     "text": [
      "True\n"
     ]
    }
   ],
   "source": [
    "print((3 < 5) and (7 > 4) or (5 >= 4))"
   ]
  },
  {
   "cell_type": "code",
   "execution_count": 19,
   "id": "aae23a0f",
   "metadata": {},
   "outputs": [
    {
     "name": "stdout",
     "output_type": "stream",
     "text": [
      "35\n"
     ]
    }
   ],
   "source": [
    "print(20 and 30 and 40 and 35)"
   ]
  },
  {
   "cell_type": "code",
   "execution_count": 20,
   "id": "06c3c909",
   "metadata": {},
   "outputs": [
    {
     "name": "stdout",
     "output_type": "stream",
     "text": [
      "0\n"
     ]
    }
   ],
   "source": [
    "print(20 and 30 and 0 and 35)"
   ]
  },
  {
   "cell_type": "code",
   "execution_count": 21,
   "id": "057fd270",
   "metadata": {},
   "outputs": [
    {
     "name": "stdout",
     "output_type": "stream",
     "text": [
      "5\n"
     ]
    }
   ],
   "source": [
    "print(5 or 6 or 7 or -3)"
   ]
  },
  {
   "cell_type": "code",
   "execution_count": 22,
   "id": "8f0837e0",
   "metadata": {},
   "outputs": [
    {
     "name": "stdout",
     "output_type": "stream",
     "text": [
      "0\n"
     ]
    }
   ],
   "source": [
    "print(0 or 0 or 0 and 4)"
   ]
  },
  {
   "cell_type": "markdown",
   "id": "7ea20825",
   "metadata": {},
   "source": [
    "# Unary Operators"
   ]
  },
  {
   "cell_type": "raw",
   "id": "b67ee274",
   "metadata": {},
   "source": [
    "    1. +, -, , /, //, * and % are known as operators and these operators can be unary or binary\n",
    "    2. A unary operator has only one operand\n",
    "    3. The unary - (minus) operator yields the negation of its numeric argument\n",
    "    4. The unary + (plus) operator yields its numeric argument unchanged\n",
    "    5. The unary ~ (invert) operator yields the bit-wise inversion of its plain or long integer argument"
   ]
  },
  {
   "cell_type": "markdown",
   "id": "71b20efc",
   "metadata": {},
   "source": [
    "## Example : The - (minus) operator is used to negate any positive number"
   ]
  },
  {
   "cell_type": "code",
   "execution_count": null,
   "id": "82b3bc4a",
   "metadata": {},
   "outputs": [],
   "source": [
    "-15                      # in this case the - (minus) operator is acting as a unary operator"
   ]
  },
  {
   "cell_type": "code",
   "execution_count": null,
   "id": "6534ddb5",
   "metadata": {},
   "outputs": [],
   "source": [
    "100 - 40                 # The -(minus) operator is acting as a binary operator"
   ]
  },
  {
   "cell_type": "markdown",
   "id": "663e0b0e",
   "metadata": {},
   "source": [
    "## Identity operators"
   ]
  },
  {
   "cell_type": "raw",
   "id": "903dee61",
   "metadata": {},
   "source": [
    "    1. Identity operators are used to compare if two objects are same with the same memory location\n",
    "    2. They are usually used to determine the data type of a variable\n",
    "    3. The identity operators are 'is' and 'is not'"
   ]
  },
  {
   "cell_type": "markdown",
   "id": "ca1f7b21",
   "metadata": {},
   "source": [
    "### ‘is’ operator - evaluates to true if the variables on either side of the operator point to the same object and false otherwise"
   ]
  },
  {
   "cell_type": "code",
   "execution_count": 1,
   "id": "51bc3550",
   "metadata": {},
   "outputs": [
    {
     "name": "stdout",
     "output_type": "stream",
     "text": [
      "1934949050960\n",
      "1934949051280\n",
      "1934949050960\n"
     ]
    }
   ],
   "source": [
    "a=10\n",
    "b=20\n",
    "c=a\n",
    "print(id(a))\n",
    "print(id(b))\n",
    "print(id(c))"
   ]
  },
  {
   "cell_type": "code",
   "execution_count": 2,
   "id": "2ddfefef",
   "metadata": {},
   "outputs": [
    {
     "name": "stdout",
     "output_type": "stream",
     "text": [
      "false\n"
     ]
    }
   ],
   "source": [
    "a = 15\n",
    "if (type(a) is float):\n",
    "    print (\"true\")\n",
    "else:\n",
    "    print (\"false\") # returns false because the data type of 'a' is 'int' not 'float'"
   ]
  },
  {
   "cell_type": "markdown",
   "id": "08f6b659",
   "metadata": {},
   "source": [
    "### ‘is not’ operator - evaluates to false if the variables on either side of the operator point to the same object and true otherwise"
   ]
  },
  {
   "cell_type": "code",
   "execution_count": 3,
   "id": "a497b685",
   "metadata": {},
   "outputs": [
    {
     "name": "stdout",
     "output_type": "stream",
     "text": [
      "false\n"
     ]
    }
   ],
   "source": [
    "b = 15.6\n",
    "if (type(b) is not float):\n",
    "    print (\"true\")\n",
    "else:\n",
    "    print (\"false\") # returns false because the data type of 'b' is 'float' not 'int'"
   ]
  },
  {
   "cell_type": "markdown",
   "id": "95574220",
   "metadata": {},
   "source": [
    "# Membership Operators\n",
    "    1. Membership operators are operators used to validate the membership of a value in a sequence\n",
    "    2. The membership operators are 'in' and 'not in'"
   ]
  },
  {
   "cell_type": "markdown",
   "id": "049fddd9",
   "metadata": {},
   "source": [
    "### 'in' operator - checks if a value exists in a sequence or not\n",
    "### It evaluates to true if it finds a variable in the specified sequence and false otherwise"
   ]
  },
  {
   "cell_type": "code",
   "execution_count": null,
   "id": "a31a192c",
   "metadata": {},
   "outputs": [],
   "source": [
    "x = [1,2,3,4,5]\n",
    "print(4 in x) # returns True because 4 exists in the x"
   ]
  },
  {
   "cell_type": "markdown",
   "id": "595b5aa5",
   "metadata": {},
   "source": [
    "### ‘not in’ operator - evaluates to true if it does not find a variable in the specified sequence and false otherwise"
   ]
  },
  {
   "cell_type": "code",
   "execution_count": 4,
   "id": "51a11828",
   "metadata": {},
   "outputs": [
    {
     "name": "stdout",
     "output_type": "stream",
     "text": [
      "True\n"
     ]
    }
   ],
   "source": [
    "y = [1,2,3,4,5]\n",
    "print(8 not in y) # returns True because 8 doesn't exists in the y"
   ]
  },
  {
   "cell_type": "code",
   "execution_count": 5,
   "id": "0a22c951",
   "metadata": {},
   "outputs": [
    {
     "name": "stdout",
     "output_type": "stream",
     "text": [
      "True\n",
      "False\n"
     ]
    }
   ],
   "source": [
    "str1=\"I am Reema, studing in COEP Pune.\"\n",
    "print(\"COEP\" in str1)\n",
    "print(\"Seeta\" in str1)"
   ]
  },
  {
   "cell_type": "code",
   "execution_count": 6,
   "id": "7dac2fa0",
   "metadata": {},
   "outputs": [
    {
     "name": "stdout",
     "output_type": "stream",
     "text": [
      "False\n",
      "True\n"
     ]
    }
   ],
   "source": [
    "List=[1,2,3,4,5,6,7,8,9,10]\n",
    "print(65 in List)\n",
    "print(9 in List)"
   ]
  },
  {
   "cell_type": "code",
   "execution_count": 7,
   "id": "4864a4c1",
   "metadata": {},
   "outputs": [
    {
     "data": {
      "text/plain": [
       "False"
      ]
     },
     "execution_count": 7,
     "metadata": {},
     "output_type": "execute_result"
    }
   ],
   "source": [
    "a=44\n",
    "b='44'\n",
    "c=44\n",
    "a is b\n",
    "a is c\n",
    "a is not b\n",
    "a is not c"
   ]
  },
  {
   "cell_type": "markdown",
   "id": "2ca3a92c",
   "metadata": {},
   "source": [
    "# Bitwise Operators"
   ]
  },
  {
   "attachments": {
    "image.png": {
     "image/png": "[encoded data removed]"
    }
   },
   "cell_type": "markdown",
   "id": "87db690f",
   "metadata": {},
   "source": [
    "![image.png](attachment:image.png)"
   ]
  },
  {
   "attachments": {
    "image.png": {
     "image/png": "[encoded data removed]"
    }
   },
   "cell_type": "markdown",
   "id": "6564a2e9",
   "metadata": {},
   "source": [
    "![image.png](attachment:image.png)"
   ]
  },
  {
   "cell_type": "code",
   "execution_count": 8,
   "id": "134b3254",
   "metadata": {},
   "outputs": [
    {
     "name": "stdout",
     "output_type": "stream",
     "text": [
      "6\n",
      "48\n",
      "1\n",
      "0\n"
     ]
    }
   ],
   "source": [
    "x=3\n",
    "print(x<<1)\n",
    "print(x<<4)\n",
    "print(x>>1)\n",
    "print(x>>4)"
   ]
  },
  {
   "cell_type": "markdown",
   "id": "acb80964",
   "metadata": {},
   "source": [
    "# String \n",
    "## Slice Operations on Strings"
   ]
  },
  {
   "cell_type": "code",
   "execution_count": 9,
   "id": "3960055e",
   "metadata": {},
   "outputs": [
    {
     "name": "stdout",
     "output_type": "stream",
     "text": [
      "Python is easy !!!\n"
     ]
    }
   ],
   "source": [
    "# String Operations\n",
    "str= \"Python is easy !!!\"\n",
    "print(str)"
   ]
  },
  {
   "cell_type": "code",
   "execution_count": 10,
   "id": "18b179f9",
   "metadata": {},
   "outputs": [
    {
     "name": "stdout",
     "output_type": "stream",
     "text": [
      "P\n"
     ]
    }
   ],
   "source": [
    "print(str[0])"
   ]
  },
  {
   "cell_type": "code",
   "execution_count": 11,
   "id": "b5f2e973",
   "metadata": {},
   "outputs": [
    {
     "name": "stdout",
     "output_type": "stream",
     "text": [
      "hon is\n"
     ]
    }
   ],
   "source": [
    "print(str[3:9])"
   ]
  },
  {
   "cell_type": "code",
   "execution_count": 12,
   "id": "ddd6d711",
   "metadata": {},
   "outputs": [
    {
     "name": "stdout",
     "output_type": "stream",
     "text": [
      "on is easy !!!\n"
     ]
    }
   ],
   "source": [
    "print(str[4:])"
   ]
  },
  {
   "cell_type": "code",
   "execution_count": 13,
   "id": "25f78168",
   "metadata": {},
   "outputs": [
    {
     "name": "stdout",
     "output_type": "stream",
     "text": [
      "!\n"
     ]
    }
   ],
   "source": [
    "print(str[-1])"
   ]
  },
  {
   "cell_type": "code",
   "execution_count": 14,
   "id": "6c0f196c",
   "metadata": {},
   "outputs": [
    {
     "name": "stdout",
     "output_type": "stream",
     "text": [
      "Pytho\n"
     ]
    }
   ],
   "source": [
    "print(str[:5])"
   ]
  },
  {
   "cell_type": "code",
   "execution_count": 15,
   "id": "288fc10a",
   "metadata": {},
   "outputs": [
    {
     "name": "stdout",
     "output_type": "stream",
     "text": [
      "Python is easy !!!Python is easy !!!\n"
     ]
    }
   ],
   "source": [
    "print(str*2)"
   ]
  },
  {
   "cell_type": "code",
   "execution_count": 16,
   "id": "2aa5db52",
   "metadata": {},
   "outputs": [
    {
     "name": "stdout",
     "output_type": "stream",
     "text": [
      "Python is easy !!!Isn't it?\n"
     ]
    }
   ],
   "source": [
    "print(str + \"Isn't it?\")"
   ]
  },
  {
   "cell_type": "markdown",
   "id": "0ae0fa5f",
   "metadata": {},
   "source": [
    "# Python Collections (Arrays)\n",
    "There are four collection data types in the Python programming language:\n",
    "\n",
    "    1. List is a collection which is ordered and changeable. Allows duplicate members.\n",
    "    2. Tuple is a collection which is ordered and unchangeable. Allows duplicate members.\n",
    "    3. Set is a collection which is unordered, unchangeable, and unindexed. No duplicate members.\n",
    "    4. Dictionary is a collection which is ordered and changeable. No duplicate members.\n",
    "    \n",
    "Note : Set items are unchangeable, but you can remove items and add new items.\n",
    "As of Python version 3.7, dictionaries are ordered. In Python 3.6 and earlier, dictionaries are unordered."
   ]
  },
  {
   "cell_type": "markdown",
   "id": "9775b1ca",
   "metadata": {},
   "source": [
    "# List\n",
    "List items are ordered, changeable, and allow duplicate values.\n",
    "\n",
    "List items are indexed, the first item has index [0], the second item has index [1] etc."
   ]
  },
  {
   "cell_type": "code",
   "execution_count": 17,
   "id": "2cbaa2f7",
   "metadata": {},
   "outputs": [
    {
     "name": "stdout",
     "output_type": "stream",
     "text": [
      "['a', 'Pune', 78, 20.66]\n",
      "a\n",
      "['Pune', 78]\n",
      "[78, 20.66]\n",
      "['a', 'Pune', 78, 20.66, 'a', 'Pune', 78, 20.66]\n",
      "['a', 'Pune', 78, 20.66, 'A', 78]\n"
     ]
    }
   ],
   "source": [
    "list1=['a','Pune',78,20.66]\n",
    "list2=['A',78]\n",
    "print(list1)\n",
    "print(list1[0])\n",
    "print(list1[1:3])\n",
    "print(list1[2:])\n",
    "print(list1*2)\n",
    "print(list1 + list2)"
   ]
  },
  {
   "cell_type": "markdown",
   "id": "47e94309",
   "metadata": {},
   "source": [
    "# Tuples\n",
    "Tuples are used to store multiple items in a single variable.\n",
    "\n",
    "Tuple is one of 4 built-in data types in Python used to store collections of data, the other 3 are List, Set, and Dictionary, all with different qualities and usage.\n",
    "\n",
    "A tuple is a collection which is ordered and unchangeable.\n",
    "\n",
    "Tuples are written with round brackets."
   ]
  },
  {
   "cell_type": "code",
   "execution_count": 18,
   "id": "682584fe",
   "metadata": {},
   "outputs": [
    {
     "name": "stdout",
     "output_type": "stream",
     "text": [
      "['a', 'Pune', 78, 20.66]\n",
      "a\n",
      "['Pune', 78]\n",
      "[78, 20.66]\n",
      "['a', 'Pune', 78, 20.66, 'a', 'Pune', 78, 20.66]\n",
      "['a', 'Pune', 78, 20.66, 'A', 78]\n"
     ]
    }
   ],
   "source": [
    "t1=['a','Pune',78,20.66]\n",
    "t2=['A',78]\n",
    "print(t1)\n",
    "print(t1[0])\n",
    "print(t1[1:3])\n",
    "print(t1[2:])\n",
    "print(t1*2)\n",
    "print(t1 + t2)"
   ]
  },
  {
   "cell_type": "markdown",
   "id": "91bc7862",
   "metadata": {},
   "source": [
    "## Dictionary\n",
    "Python’s dictionaries stores data in key-value pairs. The key values are usually strings and value can be of any data type. The key value pairs are enclosed with curly braces ({ }). Each key value pair separated from the other using a colon (:). To access any value in the dictionary, you just need to specify its key in square braces ([]).Basically dictionaries are used for fast retrieval of data."
   ]
  },
  {
   "cell_type": "code",
   "execution_count": 19,
   "id": "b2a6483c",
   "metadata": {},
   "outputs": [
    {
     "name": "stdout",
     "output_type": "stream",
     "text": [
      "Chocolate\n",
      "100\n"
     ]
    }
   ],
   "source": [
    "Dict={\"Item\":\"Chocolate\", \"Price\":100}\n",
    "print(Dict[\"Item\"])\n",
    "print(Dict[\"Price\"])"
   ]
  },
  {
   "cell_type": "markdown",
   "id": "0f369582",
   "metadata": {},
   "source": [
    "# Sets\n",
    "Sets are used to store multiple items in a single variable.\n",
    "\n",
    "Set is one of 4 built-in data types in Python used to store collections of data, the other 3 are List, Tuple, and Dictionary, all with different qualities and usage.\n",
    "\n",
    "A set is a collection which is unordered, unchangeable*, and unindexed."
   ]
  },
  {
   "cell_type": "code",
   "execution_count": 21,
   "id": "b6d7ef0b",
   "metadata": {},
   "outputs": [
    {
     "name": "stdout",
     "output_type": "stream",
     "text": [
      "{'apple', 'banana', 'cherry'}\n"
     ]
    }
   ],
   "source": [
    "thisset = {\"apple\", \"banana\", \"cherry\", \"apple\"}\n",
    "print(thisset)"
   ]
  },
  {
   "cell_type": "markdown",
   "id": "8ae89d48",
   "metadata": {},
   "source": [
    "### Unordered: \n",
    "Unordered means that the items in a set do not have a defined order.\n",
    "\n",
    "Set items can appear in a different order every time you use them, and cannot be referred to by index or key.\n",
    "\n",
    "### Unchangeable\n",
    "Set items are unchangeable, meaning that we cannot change the items after the set has been created.\n",
    "\n",
    "Once a set is created, you cannot change its items, but you can remove items and add new items.\n",
    "\n",
    "### Duplicates Not Allowed\n",
    "Sets cannot have two items with the same value."
   ]
  },
  {
   "cell_type": "code",
   "execution_count": 1,
   "id": "c9ef8a8a",
   "metadata": {},
   "outputs": [
    {
     "name": "stdout",
     "output_type": "stream",
     "text": [
      "{'apple', 'banana', 'cherry'}\n"
     ]
    }
   ],
   "source": [
    "thisset = {\"apple\", \"banana\", \"cherry\", \"apple\"}\n",
    "print(thisset)"
   ]
  },
  {
   "cell_type": "code",
   "execution_count": 22,
   "id": "26060e73",
   "metadata": {},
   "outputs": [
    {
     "name": "stdout",
     "output_type": "stream",
     "text": [
      "{'apple', True, 2, 'banana', 'cherry'}\n"
     ]
    }
   ],
   "source": [
    "thisset = {\"apple\", \"banana\", \"cherry\", True, 1, 2}\n",
    "print(thisset)"
   ]
  },
  {
   "cell_type": "code",
   "execution_count": 23,
   "id": "3469b1fb",
   "metadata": {},
   "outputs": [
    {
     "name": "stdout",
     "output_type": "stream",
     "text": [
      "3\n"
     ]
    }
   ],
   "source": [
    "thisset = {\"apple\", \"banana\", \"cherry\"}\n",
    "print(len(thisset))"
   ]
  },
  {
   "cell_type": "code",
   "execution_count": 24,
   "id": "786b5178",
   "metadata": {},
   "outputs": [
    {
     "name": "stdout",
     "output_type": "stream",
     "text": [
      "<class 'set'>\n"
     ]
    }
   ],
   "source": [
    "myset = {\"apple\", \"banana\", \"cherry\"}\n",
    "print(type(myset))"
   ]
  },
  {
   "cell_type": "markdown",
   "id": "b0d960b0",
   "metadata": {},
   "source": [
    "# General sequence data methods\n",
    "## String Methods"
   ]
  },
  {
   "cell_type": "code",
   "execution_count": 4,
   "id": "fd22f362",
   "metadata": {},
   "outputs": [
    {
     "name": "stdout",
     "output_type": "stream",
     "text": [
      "ng i\n"
     ]
    }
   ],
   "source": [
    "strSample='learning is fun !'\n",
    "print(strSample[6:10:])"
   ]
  },
  {
   "cell_type": "code",
   "execution_count": 5,
   "id": "2510f648",
   "metadata": {},
   "outputs": [
    {
     "data": {
      "text/plain": [
       "'Learning is fun !'"
      ]
     },
     "execution_count": 5,
     "metadata": {},
     "output_type": "execute_result"
    }
   ],
   "source": [
    "strSample.capitalize() # returns the string with its first character capitalized and the rest lowercased"
   ]
  },
  {
   "cell_type": "code",
   "execution_count": 6,
   "id": "991ef876",
   "metadata": {},
   "outputs": [
    {
     "data": {
      "text/plain": [
       "'Learning Is Fun !'"
      ]
     },
     "execution_count": 6,
     "metadata": {},
     "output_type": "execute_result"
    }
   ],
   "source": [
    "strSample.title() # to capitalise the first character of each word"
   ]
  },
  {
   "cell_type": "code",
   "execution_count": 7,
   "id": "dcb5bd23",
   "metadata": {},
   "outputs": [
    {
     "data": {
      "text/plain": [
       "'LEARNING IS FUN !'"
      ]
     },
     "execution_count": 7,
     "metadata": {},
     "output_type": "execute_result"
    }
   ],
   "source": [
    "strSample.swapcase() # to swap the case of strings"
   ]
  },
  {
   "cell_type": "code",
   "execution_count": 8,
   "id": "6af3a110",
   "metadata": {},
   "outputs": [
    {
     "data": {
      "text/plain": [
       "4"
      ]
     },
     "execution_count": 8,
     "metadata": {},
     "output_type": "execute_result"
    }
   ],
   "source": [
    "strSample.find('n') # to find the index of the given letter"
   ]
  },
  {
   "cell_type": "code",
   "execution_count": 10,
   "id": "3ed11d6a",
   "metadata": {},
   "outputs": [
    {
     "data": {
      "text/plain": [
       "3"
      ]
     },
     "execution_count": 10,
     "metadata": {},
     "output_type": "execute_result"
    }
   ],
   "source": [
    "strSample.count('n') # to count total number of 'a' in the string"
   ]
  },
  {
   "cell_type": "code",
   "execution_count": 11,
   "id": "f92e39b3",
   "metadata": {},
   "outputs": [
    {
     "data": {
      "text/plain": [
       "'learning is joyful !'"
      ]
     },
     "execution_count": 11,
     "metadata": {},
     "output_type": "execute_result"
    }
   ],
   "source": [
    "strSample.replace('fun','joyful') # to replace the letters/word"
   ]
  },
  {
   "cell_type": "code",
   "execution_count": 12,
   "id": "0a4d2bb9",
   "metadata": {},
   "outputs": [
    {
     "data": {
      "text/plain": [
       "False"
      ]
     },
     "execution_count": 12,
     "metadata": {},
     "output_type": "execute_result"
    }
   ],
   "source": [
    "strSample.isalnum() # Return true if all bytes in the sequence are\n",
    "                    # alphabetical ASCII characters or ASCII decimal digits,\n",
    "                    # false otherwise"
   ]
  },
  {
   "cell_type": "code",
   "execution_count": 14,
   "id": "c2664ea8",
   "metadata": {},
   "outputs": [
    {
     "name": "stdout",
     "output_type": "stream",
     "text": [
      "Reema Remesh Jadhav.\n"
     ]
    }
   ],
   "source": [
    "First_name=\"Reema\"\n",
    "Middle_name=\"Remesh\"\n",
    "Surname=\"Jadhav\"\n",
    "name='{} {} {}.'.format(First_name,Middle_name,Surname)\n",
    "print(name)"
   ]
  },
  {
   "cell_type": "markdown",
   "id": "3b478731",
   "metadata": {},
   "source": [
    "#### The below code will show all the functions that we can use for the particular variable."
   ]
  },
  {
   "cell_type": "code",
   "execution_count": 15,
   "id": "363ba907",
   "metadata": {},
   "outputs": [
    {
     "name": "stdout",
     "output_type": "stream",
     "text": [
      "['__add__', '__class__', '__contains__', '__delattr__', '__dir__', '__doc__', '__eq__', '__format__', '__ge__', '__getattribute__', '__getitem__', '__getnewargs__', '__gt__', '__hash__', '__init__', '__init_subclass__', '__iter__', '__le__', '__len__', '__lt__', '__mod__', '__mul__', '__ne__', '__new__', '__reduce__', '__reduce_ex__', '__repr__', '__rmod__', '__rmul__', '__setattr__', '__sizeof__', '__str__', '__subclasshook__', 'capitalize', 'casefold', 'center', 'count', 'encode', 'endswith', 'expandtabs', 'find', 'format', 'format_map', 'index', 'isalnum', 'isalpha', 'isascii', 'isdecimal', 'isdigit', 'isidentifier', 'islower', 'isnumeric', 'isprintable', 'isspace', 'istitle', 'isupper', 'join', 'ljust', 'lower', 'lstrip', 'maketrans', 'partition', 'removeprefix', 'removesuffix', 'replace', 'rfind', 'rindex', 'rjust', 'rpartition', 'rsplit', 'rstrip', 'split', 'splitlines', 'startswith', 'strip', 'swapcase', 'title', 'translate', 'upper', 'zfill']\n"
     ]
    }
   ],
   "source": [
    "print(dir(name))"
   ]
  },
  {
   "cell_type": "code",
   "execution_count": null,
   "id": "0633f670",
   "metadata": {},
   "outputs": [],
   "source": [
    "print(help(str))"
   ]
  },
  {
   "cell_type": "markdown",
   "id": "04efac78",
   "metadata": {},
   "source": [
    "# Python Statements\n"
   ]
  },
  {
   "cell_type": "markdown",
   "id": "b0b97fa0",
   "metadata": {},
   "source": [
    "## if..elif..else"
   ]
  },
  {
   "cell_type": "raw",
   "id": "33ca3910",
   "metadata": {},
   "source": [
    "The \"if..elif..else\" statement is used for decision making based on some conditions.\n",
    "\n",
    "if statement\n",
    "The syntax of \"if\" statement is\n",
    "\n",
    "if test expression:\n",
    "    statement(2)"
   ]
  },
  {
   "cell_type": "code",
   "execution_count": null,
   "id": "6014c109",
   "metadata": {},
   "outputs": [],
   "source": [
    "x = 1\n",
    "if x > 0:\n",
    "    print(x,\"is positive number\")"
   ]
  },
  {
   "cell_type": "code",
   "execution_count": null,
   "id": "7b92de56",
   "metadata": {},
   "outputs": [],
   "source": [
    "x = 1\n",
    "if x > 0:\n",
    "    print(x,\"is positive number\")\n",
    "print('Outside of if condition')"
   ]
  },
  {
   "cell_type": "raw",
   "id": "dad7f6ab",
   "metadata": {},
   "source": [
    "if test expression:\n",
    "    # body of if\n",
    "else:\n",
    "    # body of else"
   ]
  },
  {
   "cell_type": "code",
   "execution_count": null,
   "id": "a22656d3",
   "metadata": {},
   "outputs": [],
   "source": [
    "x = 1\n",
    "if x >= 0:\n",
    "    print(x,\"is positive number\")\n",
    "else:\n",
    "    print(x,\"is negative number\")\n",
    "    \n",
    "print('End of if..else..')"
   ]
  },
  {
   "cell_type": "raw",
   "id": "a61255ba",
   "metadata": {},
   "source": [
    "if test expression:\n",
    "    # body of if\n",
    "elif test expression:\n",
    "    # body of elif\n",
    "else\n",
    "    # body of else"
   ]
  },
  {
   "cell_type": "code",
   "execution_count": null,
   "id": "72d19bb4",
   "metadata": {},
   "outputs": [],
   "source": [
    "x = -5\n",
    "if x == 0:\n",
    "    print(x,\"is zero\")\n",
    "elif x > 0:\n",
    "    print(x,\"is positive\")\n",
    "else:\n",
    "    print(x,\"is negative\")\n",
    "    \n",
    "    \n",
    "print('End of if statement')"
   ]
  },
  {
   "cell_type": "code",
   "execution_count": null,
   "id": "b32e42a4",
   "metadata": {},
   "outputs": [],
   "source": [
    "x = 8\n",
    "if x == 0:\n",
    "    print(x,\"is zero\")\n",
    "elif x > 0:\n",
    "    if x == 10:\n",
    "        print(x,\"is equal to 10\")\n",
    "    elif x > 10:\n",
    "        print(x,\"is greater than 10\")\n",
    "    else:\n",
    "        print(x,\"is lesser than 10\")\n",
    "else:\n",
    "    print(x,\"is negative\")\n",
    "    \n",
    "    \n",
    "print('End of if statement')"
   ]
  },
  {
   "cell_type": "markdown",
   "id": "df9e5333",
   "metadata": {},
   "source": [
    "# for loop"
   ]
  },
  {
   "cell_type": "raw",
   "id": "7e907eef",
   "metadata": {},
   "source": [
    "The for loop statement is used to iterate over a sequence data type or other iterable objects. Iterating over a sequence is called traversal.\n",
    "\n",
    "Loop continues until the condition is met or the last item in the sequence is processed.\n",
    "\n",
    "for val in seq:\n",
    "    # body of for"
   ]
  },
  {
   "cell_type": "code",
   "execution_count": null,
   "id": "dd07c6ac",
   "metadata": {},
   "outputs": [],
   "source": [
    "sum = 0             # variable to hold the sum\n",
    "nums = [1,2,3,6,8]  # list of numbers\n",
    "\n",
    "for num in nums:\n",
    "    sum += num\n",
    "    \n",
    "print(sum)"
   ]
  },
  {
   "cell_type": "code",
   "execution_count": 3,
   "id": "9f26b23b",
   "metadata": {},
   "outputs": [
    {
     "name": "stdout",
     "output_type": "stream",
     "text": [
      "1 1 How are you?\n",
      "2 Hi stop\n",
      "2 1 How are you?\n",
      "2 Hi stop\n",
      "3 1 How are you?\n",
      "2 Hi stop\n",
      "4 1 How are you?\n",
      "2 Hi stop\n",
      "****** "
     ]
    }
   ],
   "source": [
    "for i in range(1, 5, 1):\n",
    "    print(i,end=\" \")\n",
    "    for j in range(1, 5, 1):\n",
    "        print(j,end=\" \")\n",
    "        if (j==2):\n",
    "            print(\"Hi\",end=\" \")\n",
    "            break\n",
    "            print(\"Hello\",end=\" \")\n",
    "        print(\"How are you?\")\n",
    "    print(\"stop\")\n",
    "print(\"******\",end=\" \")\n",
    "            "
   ]
  },
  {
   "cell_type": "code",
   "execution_count": 13,
   "id": "820f9dc4",
   "metadata": {},
   "outputs": [
    {
     "name": "stdout",
     "output_type": "stream",
     "text": [
      "1 1 2 stop\n",
      "2 1 2 stop\n",
      "3 1 2 stop\n",
      "4 1 2 stop\n",
      "****\n"
     ]
    }
   ],
   "source": [
    "for i in range(1, 5, 1):\n",
    "    print(i,end=\" \")\n",
    "    for j in range(1, 5, 1):\n",
    "        print(j,end=\" \")\n",
    "        if(j==2):\n",
    "            break\n",
    "    print(\"stop\")\n",
    "print(\"****\")\n"
   ]
  },
  {
   "cell_type": "markdown",
   "id": "a4538102",
   "metadata": {},
   "source": [
    "# for loop with else"
   ]
  },
  {
   "cell_type": "code",
   "execution_count": null,
   "id": "3f3a1c23",
   "metadata": {},
   "outputs": [],
   "source": [
    "digits = [0,1,5]\n",
    "\n",
    "for i in digits:\n",
    "    print(i)\n",
    "else:\n",
    "    print('No more digits to print')"
   ]
  },
  {
   "cell_type": "markdown",
   "id": "54eaf66c",
   "metadata": {},
   "source": [
    "# Range Function"
   ]
  },
  {
   "cell_type": "raw",
   "id": "9a783cba",
   "metadata": {},
   "source": [
    "Range function is used to generate sequence of numbers. For example range(5) will generate 5 numbers starting from 0 to 4.\n",
    "\n",
    "The syntax for range function is: range(start,stop,increment)"
   ]
  },
  {
   "cell_type": "code",
   "execution_count": null,
   "id": "13f24fdc",
   "metadata": {},
   "outputs": [],
   "source": [
    "# range function with required sequence of numbers\n",
    "print(range(10)) # this will not print sequence of numbers but generated on the fly.\n",
    "\n",
    "# range function to start with 1 to 10 (note the stop argument is always treated as stop -1)\n",
    "print(list(range(1,11)))\n",
    "\n",
    "# range function different start and stop\n",
    "print(list(range(2,8)))\n",
    "\n",
    "# range function with start,stop and increment parameters\n",
    "print(list(range(0,10,2)))"
   ]
  },
  {
   "cell_type": "code",
   "execution_count": null,
   "id": "7f6c5aa4",
   "metadata": {},
   "outputs": [],
   "source": [
    "colors = ['Blue','White','Green']\n",
    "for i in range(len(colors)):\n",
    "    print('I like',colors[i],'color')"
   ]
  },
  {
   "cell_type": "code",
   "execution_count": 17,
   "id": "5d3ba3d9",
   "metadata": {},
   "outputs": [
    {
     "name": "stdout",
     "output_type": "stream",
     "text": [
      "   * \n",
      "  * * \n",
      " * * * \n",
      "* * * * \n"
     ]
    }
   ],
   "source": [
    "for i in range (1,5,1):\n",
    "    for j in range (3,i-1,-1):\n",
    "        print(\" \",end=\"\")\n",
    "    for k in range (1,i+1,1):\n",
    "        print (\"* \", end=\"\")\n",
    "    print()"
   ]
  },
  {
   "cell_type": "markdown",
   "id": "34236dbf",
   "metadata": {},
   "source": [
    "# While"
   ]
  },
  {
   "cell_type": "raw",
   "id": "b5986ddc",
   "metadata": {},
   "source": [
    "While loop is used to iterate over a block of code as long as the test expression is true. Please note in python any non-zero value is True and zero is interpreted as False.\n",
    "\n",
    "Mainly used when we do not know how many times to iterate\n",
    "\n",
    "while test_expression:\n",
    "    # body of while"
   ]
  },
  {
   "cell_type": "code",
   "execution_count": 3,
   "id": "c41bf93a",
   "metadata": {},
   "outputs": [
    {
     "name": "stdout",
     "output_type": "stream",
     "text": [
      "1 3 6 10 15 21 28 36 45 55 "
     ]
    }
   ],
   "source": [
    "sum = 0\n",
    "i = 1\n",
    "while i <= 10:\n",
    "    sum += i\n",
    "    i += 1\n",
    "    print(sum, end=\" \")"
   ]
  },
  {
   "cell_type": "code",
   "execution_count": 6,
   "id": "8e2e2f7e",
   "metadata": {},
   "outputs": [
    {
     "name": "stdout",
     "output_type": "stream",
     "text": [
      "*****"
     ]
    }
   ],
   "source": [
    "n = 5\n",
    "#sum = 0\n",
    "i = 1\n",
    "while i <= n:\n",
    "    #sum += i\n",
    "    i += 1\n",
    "    print(\"*\",end=\"\")"
   ]
  },
  {
   "cell_type": "code",
   "execution_count": 18,
   "id": "7793a2c6",
   "metadata": {},
   "outputs": [
    {
     "name": "stdout",
     "output_type": "stream",
     "text": [
      "123456\n",
      "123456\n",
      "123456\n",
      "123456\n",
      "123456\n"
     ]
    }
   ],
   "source": [
    "n = 5\n",
    "m=6\n",
    "j=1\n",
    "while(j<=n):\n",
    "    i = 1\n",
    "    while i <= m:\n",
    "        print(i,end=\"\")\n",
    "        i += 1\n",
    "    print()\n",
    "    j=j+1\n"
   ]
  },
  {
   "cell_type": "markdown",
   "id": "7919b458",
   "metadata": {},
   "source": [
    "# While...else"
   ]
  },
  {
   "cell_type": "raw",
   "id": "234ce882",
   "metadata": {},
   "source": [
    "The \"else\" part is executed when the while condition evaluates to false.\n",
    "\n",
    "The \"else\" part occurs if no break occurs and the condition is false."
   ]
  },
  {
   "cell_type": "code",
   "execution_count": null,
   "id": "dff37c92",
   "metadata": {},
   "outputs": [],
   "source": [
    "counter = 0\n",
    "while counter < 3:\n",
    "    counter += 1\n",
    "    print('Inside Loop')\n",
    "else:\n",
    "    print('Inside Else')"
   ]
  },
  {
   "cell_type": "markdown",
   "id": "01c087d0",
   "metadata": {},
   "source": [
    "# Break Statement"
   ]
  },
  {
   "cell_type": "raw",
   "id": "165ffd5b",
   "metadata": {},
   "source": [
    "The break statement terminates the loop containing it. The control of the program flows to the statement immediately below the loop."
   ]
  },
  {
   "cell_type": "code",
   "execution_count": null,
   "id": "db0acce3",
   "metadata": {},
   "outputs": [],
   "source": [
    "for val in \"string\":\n",
    "    if val == \"i\":\n",
    "        break\n",
    "    print(val)  \n",
    "        \n",
    "print(\"The End\")"
   ]
  },
  {
   "cell_type": "markdown",
   "id": "bd421d8c",
   "metadata": {},
   "source": [
    "# Continue Statement"
   ]
  },
  {
   "cell_type": "raw",
   "id": "c3dbff24",
   "metadata": {},
   "source": [
    "The continue statement is used to skip the rest of the code inside a loop for the current iteration only. Loop does not terminate but continues on with next iteration."
   ]
  },
  {
   "cell_type": "code",
   "execution_count": null,
   "id": "99f4e2ad",
   "metadata": {},
   "outputs": [],
   "source": [
    "for val in \"string\":\n",
    "    if val == \"i\":\n",
    "        continue\n",
    "    print(val)\n",
    "    \n",
    "print(\"End Loop\")"
   ]
  },
  {
   "cell_type": "markdown",
   "id": "32884427",
   "metadata": {},
   "source": [
    "# Pass Statement"
   ]
  },
  {
   "cell_type": "raw",
   "id": "23aa1f3f",
   "metadata": {},
   "source": [
    "Pass statement is generally used as a placeholder for loop or function or classes as they cannot have empty body. So \"Pass\" is used to construct the body that does nothing.\n",
    "\n",
    "The difference between comment (#) and \"pass\" is that python interpreter ignores the comments while it treat \"pass\" as no operation."
   ]
  },
  {
   "cell_type": "code",
   "execution_count": null,
   "id": "faf8c7c6",
   "metadata": {},
   "outputs": [],
   "source": [
    "def dummy():\n",
    "    pass\n",
    "\n",
    "dummy()"
   ]
  },
  {
   "cell_type": "code",
   "execution_count": null,
   "id": "a5756268",
   "metadata": {},
   "outputs": [],
   "source": [
    "for i in range(3):\n",
    "    pass"
   ]
  },
  {
   "cell_type": "code",
   "execution_count": 10,
   "id": "7d96a31c",
   "metadata": {},
   "outputs": [
    {
     "name": "stdout",
     "output_type": "stream",
     "text": [
      "Enter number:-8\n",
      "not prime\n"
     ]
    }
   ],
   "source": [
    "# prime number Program\n",
    "num=int(input(\"Enter number:\"))\n",
    "if(num==1):\n",
    "    print(\"not prime\")\n",
    "elif(num>1):\n",
    "    for i in range(2,num):\n",
    "        if (num%i==0):\n",
    "            print(\"not prime\")\n",
    "            break\n",
    "    else:\n",
    "        print(\"prime\")\n",
    "else:\n",
    "    print(\"not prime\")"
   ]
  },
  {
   "cell_type": "code",
   "execution_count": 26,
   "id": "9720801b",
   "metadata": {
    "scrolled": true
   },
   "outputs": [
    {
     "name": "stdout",
     "output_type": "stream",
     "text": [
      "    1  \n",
      "   2  3  \n",
      "  4  5  6  \n",
      " 7  8  9  10  \n"
     ]
    }
   ],
   "source": [
    "v=1\n",
    "for i in range(1,5,1):\n",
    "    for j in range(4,i-1,-1):\n",
    "        print(\" \",end=\"\")\n",
    "    for j in range(1,i+1,1):\n",
    "        print(v,\" \",end=\"\")\n",
    "        v+=1\n",
    "    print()"
   ]
  },
  {
   "cell_type": "code",
   "execution_count": 31,
   "id": "7a63ed95",
   "metadata": {},
   "outputs": [
    {
     "name": "stdout",
     "output_type": "stream",
     "text": [
      "25\n"
     ]
    }
   ],
   "source": [
    "list=[100,200,300,500,25,150,670]\n",
    "min=list[0]\n",
    "for i in range(0,7,1):\n",
    "    if list[i]<min:\n",
    "        min=list[i]\n",
    "print(min)"
   ]
  },
  {
   "cell_type": "code",
   "execution_count": null,
   "id": "e0af744c",
   "metadata": {},
   "outputs": [],
   "source": [
    "list=[10,20,30,50,15,35]\n",
    "ele=int(input(\"Enter Element:\"))\n",
    "for i in range(0,6,1):\n",
    "    if (ele==list[i]):\n",
    "        print(\"Present at \",i+1)\n",
    "        break\n",
    "else:\n",
    "    print(\"not present\")"
   ]
  },
  {
   "cell_type": "markdown",
   "id": "27eeb573",
   "metadata": {},
   "source": [
    "## Print reverse number"
   ]
  },
  {
   "cell_type": "code",
   "execution_count": 16,
   "id": "8f6ce6b8",
   "metadata": {},
   "outputs": [
    {
     "name": "stdout",
     "output_type": "stream",
     "text": [
      "Reversed Number: 4321\n"
     ]
    }
   ],
   "source": [
    "num = 1234\n",
    "reversed_num = 0\n",
    "\n",
    "while num != 0:\n",
    "    digit = num % 10\n",
    "    reversed_num = reversed_num * 10 + digit\n",
    "    num //= 10\n",
    "\n",
    "print(\"Reversed Number: \" + str(reversed_num))"
   ]
  },
  {
   "cell_type": "markdown",
   "id": "e8253219",
   "metadata": {},
   "source": [
    "## Reverse String"
   ]
  },
  {
   "cell_type": "code",
   "execution_count": 17,
   "id": "5891cd99",
   "metadata": {},
   "outputs": [
    {
     "name": "stdout",
     "output_type": "stream",
     "text": [
      "Reversed string: enuP PEoC\n"
     ]
    }
   ],
   "source": [
    "my_string=(\"CoEP Pune\")\n",
    "str=\"\"\n",
    "for i in my_string:\n",
    "    str=i+str\n",
    "print(\"Reversed string:\",str)"
   ]
  },
  {
   "cell_type": "code",
   "execution_count": 14,
   "id": "2cbb4bf2",
   "metadata": {},
   "outputs": [
    {
     "name": "stdout",
     "output_type": "stream",
     "text": [
      "24\n"
     ]
    }
   ],
   "source": [
    "num=1234\n",
    "p=1\n",
    "\n",
    "while(num!=0):\n",
    "    r=num%10\n",
    "    p=p*r\n",
    "    num=num//10\n",
    "print(p)"
   ]
  },
  {
   "cell_type": "code",
   "execution_count": 3,
   "id": "0e26a694",
   "metadata": {},
   "outputs": [
    {
     "name": "stdout",
     "output_type": "stream",
     "text": [
      "11\n",
      "20\n",
      "155\n"
     ]
    }
   ],
   "source": [
    "s=int(input())\n",
    "e=int(input())\n",
    "sum=0\n",
    "\n",
    "for i in range(s,e+1,1):\n",
    "    sum=sum+i\n",
    "print(sum)"
   ]
  },
  {
   "cell_type": "code",
   "execution_count": 27,
   "id": "41df6b43",
   "metadata": {},
   "outputs": [
    {
     "name": "stdout",
     "output_type": "stream",
     "text": [
      "123\n",
      "456\n",
      "789\n",
      "\n",
      "\n",
      "147\n",
      "258\n",
      "369\n"
     ]
    },
    {
     "ename": "IndexError",
     "evalue": "list index out of range",
     "output_type": "error",
     "traceback": [
      "\u001b[1;31m---------------------------------------------------------------------------\u001b[0m",
      "\u001b[1;31mIndexError\u001b[0m                                Traceback (most recent call last)",
      "\u001b[1;32m~\\AppData\\Local\\Temp\\ipykernel_7512\\2438680924.py\u001b[0m in \u001b[0;36m<module>\u001b[1;34m\u001b[0m\n\u001b[0;32m     21\u001b[0m \u001b[1;32mfor\u001b[0m \u001b[0mi\u001b[0m \u001b[1;32min\u001b[0m \u001b[0mrange\u001b[0m\u001b[1;33m(\u001b[0m\u001b[1;36m0\u001b[0m\u001b[1;33m,\u001b[0m\u001b[1;36m3\u001b[0m\u001b[1;33m,\u001b[0m\u001b[1;36m1\u001b[0m\u001b[1;33m)\u001b[0m\u001b[1;33m:\u001b[0m\u001b[1;33m\u001b[0m\u001b[1;33m\u001b[0m\u001b[0m\n\u001b[0;32m     22\u001b[0m     \u001b[1;32mfor\u001b[0m \u001b[0mj\u001b[0m \u001b[1;32min\u001b[0m \u001b[0mrange\u001b[0m \u001b[1;33m(\u001b[0m\u001b[1;36m0\u001b[0m\u001b[1;33m,\u001b[0m\u001b[1;36m3\u001b[0m\u001b[1;33m,\u001b[0m\u001b[1;36m1\u001b[0m\u001b[1;33m)\u001b[0m\u001b[1;33m:\u001b[0m\u001b[1;33m\u001b[0m\u001b[1;33m\u001b[0m\u001b[0m\n\u001b[1;32m---> 23\u001b[1;33m         \u001b[0mR\u001b[0m\u001b[1;33m[\u001b[0m\u001b[0mi\u001b[0m\u001b[1;33m]\u001b[0m\u001b[1;33m[\u001b[0m\u001b[0mj\u001b[0m\u001b[1;33m]\u001b[0m\u001b[1;33m=\u001b[0m\u001b[0mMat_A\u001b[0m\u001b[1;33m[\u001b[0m\u001b[0mi\u001b[0m\u001b[1;33m]\u001b[0m\u001b[1;33m[\u001b[0m\u001b[0mj\u001b[0m\u001b[1;33m]\u001b[0m\u001b[1;33m+\u001b[0m\u001b[0mMat_B\u001b[0m\u001b[1;33m[\u001b[0m\u001b[0mi\u001b[0m\u001b[1;33m]\u001b[0m\u001b[1;33m[\u001b[0m\u001b[0mj\u001b[0m\u001b[1;33m]\u001b[0m\u001b[1;33m\u001b[0m\u001b[1;33m\u001b[0m\u001b[0m\n\u001b[0m\u001b[0;32m     24\u001b[0m         \u001b[0mprint\u001b[0m\u001b[1;33m(\u001b[0m\u001b[0mR\u001b[0m\u001b[1;33m[\u001b[0m\u001b[0mi\u001b[0m\u001b[1;33m]\u001b[0m\u001b[1;33m[\u001b[0m\u001b[0mj\u001b[0m\u001b[1;33m]\u001b[0m\u001b[1;33m)\u001b[0m\u001b[1;33m\u001b[0m\u001b[1;33m\u001b[0m\u001b[0m\n\u001b[0;32m     25\u001b[0m     \u001b[0mprint\u001b[0m\u001b[1;33m(\u001b[0m\u001b[1;33m)\u001b[0m\u001b[1;33m\u001b[0m\u001b[1;33m\u001b[0m\u001b[0m\n",
      "\u001b[1;31mIndexError\u001b[0m: list index out of range"
     ]
    }
   ],
   "source": [
    "Mat_A=[[1,2,3],\n",
    "       [4,5,6],\n",
    "       [7,8,9]]\n",
    "\n",
    "Mat_B=[[1,4,7],\n",
    "       [2,5,8],\n",
    "       [3,6,9]]\n",
    "\n",
    "R=[[],\n",
    "   [],\n",
    "   []]\n",
    "\n",
    "for i in range(0,3,1):\n",
    "    for j in range (0,3,1):\n",
    "        print(Mat_A[i][j],end=\"\")\n",
    "    print()\n",
    "print(\"\\n\")    \n",
    "for i in range(0,3,1):\n",
    "    for j in range (0,3,1):\n",
    "        print(Mat_B[i][j],end=\"\")\n",
    "    print()\n",
    "    \n",
    "for i in range(0,3,1):\n",
    "    for j in range (0,3,1):\n",
    "        R[i][j]=Mat_A[i][j]+Mat_B[i][j]\n",
    "        print(R[i][j])\n",
    "    print()"
   ]
  },
  {
   "cell_type": "code",
   "execution_count": 12,
   "id": "041195de",
   "metadata": {},
   "outputs": [
    {
     "name": "stdout",
     "output_type": "stream",
     "text": [
      "Mat A:\n",
      "Enter element:4\n",
      "Enter element:4\n",
      "Enter element:4\n",
      "\n",
      "Enter element:4\n",
      "Enter element:4\n",
      "Enter element:4\n",
      "\n",
      "Enter element:4\n",
      "Enter element:4\n",
      "Enter element:4\n",
      "\n",
      "Mat B:\n",
      "Enter element:2\n",
      "Enter element:2\n",
      "Enter element:2\n",
      "\n",
      "Enter element:1\n",
      "Enter element:1\n",
      "Enter element:1\n",
      "\n",
      "Enter element:5\n",
      "Enter element:5\n",
      "Enter element:5\n",
      "\n",
      "Mat A:\n",
      "4 4 4 \n",
      "4 4 4 \n",
      "4 4 4 \n",
      "Mat B:\n",
      "2 2 2 \n",
      "1 1 1 \n",
      "5 5 5 \n",
      "\n",
      " Mat R:\n",
      "2 2 2 \n",
      "3 3 3 \n",
      "-1 -1 -1 \n"
     ]
    }
   ],
   "source": [
    "A=[[0,0,0],\n",
    "   [0,0,0],\n",
    "   [0,0,0]]\n",
    "\n",
    "B=[[0,0,0],\n",
    "   [0,0,0],\n",
    "   [0,0,0]]\n",
    "\n",
    "R=[[0,0,0],\n",
    "   [0,0,0],\n",
    "   [0,0,0]]\n",
    "\n",
    "print(\"Mat A:\")\n",
    "\n",
    "for i in range (0,3,1):\n",
    "    for j in range (0,3,1):\n",
    "        A[i][j]=int(input(\"Enter element:\"))\n",
    "    print()\n",
    "\n",
    "print(\"Mat B:\")\n",
    "for i in range (0,3,1):\n",
    "    for j in range (0,3,1):\n",
    "        B[i][j]=int(input(\"Enter element:\"))\n",
    "    print()\n",
    "\n",
    "print(\"Mat A:\")\n",
    "\n",
    "for i in range (0,3,1):\n",
    "    for j in range (0,3,1):\n",
    "        print(A[i][j],end=\" \")\n",
    "    print()\n",
    "\n",
    "print(\"Mat B:\")\n",
    "\n",
    "for i in range (0,3,1):\n",
    "    for j in range (0,3,1):\n",
    "        print(B[i][j],end=\" \")\n",
    "    print()\n",
    "\n",
    "print(\"\\n Mat R:\")\n",
    "for i in range (0,3,1):\n",
    "    for j in range (0,3,1):\n",
    "        R[i][j]=A[i][j]-B[i][j]\n",
    "        print(R[i][j],end=\" \")\n",
    "    print()"
   ]
  },
  {
   "cell_type": "code",
   "execution_count": 13,
   "id": "56a7b145",
   "metadata": {},
   "outputs": [
    {
     "name": "stdout",
     "output_type": "stream",
     "text": [
      "Mat A:\n",
      "Enter element:1\n",
      "Enter element:2\n",
      "Enter element:3\n",
      "\n",
      "Enter element:3\n",
      "Enter element:2\n",
      "Enter element:4\n",
      "\n",
      "Enter element:3\n",
      "Enter element:4\n",
      "Enter element:5\n",
      "\n",
      "Mat B:\n",
      "Enter element:3\n",
      "Enter element:4\n",
      "Enter element:5\n",
      "\n",
      "Enter element:6\n",
      "Enter element:4\n",
      "Enter element:3\n",
      "\n",
      "Enter element:5\n",
      "Enter element:4\n",
      "Enter element:5\n",
      "\n",
      "Mat A:\n",
      "1 2 3 \n",
      "3 2 4 \n",
      "3 4 5 \n",
      "Mat B:\n",
      "3 4 5 \n",
      "6 4 3 \n",
      "5 4 5 \n",
      "\n",
      " Mat R:\n",
      "30 24 26 \n",
      "41 36 41 \n",
      "58 48 52 \n"
     ]
    }
   ],
   "source": [
    "A=[[0,0,0],\n",
    "   [0,0,0],\n",
    "   [0,0,0]]\n",
    "\n",
    "B=[[0,0,0],\n",
    "   [0,0,0],\n",
    "   [0,0,0]]\n",
    "\n",
    "R=[[0,0,0],\n",
    "   [0,0,0],\n",
    "   [0,0,0]]\n",
    "\n",
    "print(\"Mat A:\")\n",
    "\n",
    "for i in range (0,3,1):\n",
    "    for j in range (0,3,1):\n",
    "        A[i][j]=int(input(\"Enter element:\"))\n",
    "    print()\n",
    "\n",
    "print(\"Mat B:\")\n",
    "for i in range (0,3,1):\n",
    "    for j in range (0,3,1):\n",
    "        B[i][j]=int(input(\"Enter element:\"))\n",
    "    print()\n",
    "\n",
    "print(\"Mat A:\")\n",
    "\n",
    "for i in range (0,3,1):\n",
    "    for j in range (0,3,1):\n",
    "        print(A[i][j],end=\" \")\n",
    "    print()\n",
    "\n",
    "print(\"Mat B:\")\n",
    "\n",
    "for i in range (0,3,1):\n",
    "    for j in range (0,3,1):\n",
    "        print(B[i][j],end=\" \")\n",
    "    print()\n",
    "\n",
    "print(\"\\n Mat R:\")\n",
    "for i in range (0,3,1):\n",
    "    for j in range (0,3,1):\n",
    "        for k in range (0,3,1):\n",
    "            R[i][j]=R[i][j]+A[i][k]*B[k][j]\n",
    "\n",
    "for i in range (0,3,1):\n",
    "    for j in range (0,3,1):\n",
    "        print(R[i][j],end=\" \")\n",
    "    print()"
   ]
  },
  {
   "cell_type": "code",
   "execution_count": 9,
   "id": "e5dc749f",
   "metadata": {
    "scrolled": true
   },
   "outputs": [
    {
     "name": "stdout",
     "output_type": "stream",
     "text": [
      "1 prime\n",
      "2 prime\n",
      "3 prime\n",
      "4 not prime\n",
      "5 prime\n",
      "6 not prime\n",
      "7 prime\n",
      "8 not prime\n",
      "9 not prime\n",
      "10 not prime\n"
     ]
    }
   ],
   "source": [
    "\n",
    "for n in range(1,11):\n",
    "    \n",
    "    f=0\n",
    "    if \n",
    "    for i in range(2,n-1,1):\n",
    "        if(n%i==0):\n",
    "            f=1\n",
    "            print(n,\"not prime\")\n",
    "            break\n",
    "    if(f==0):\n",
    "        print(n,\"prime\")"
   ]
  },
  {
   "cell_type": "code",
   "execution_count": 11,
   "id": "ba3a0e05",
   "metadata": {},
   "outputs": [
    {
     "name": "stdout",
     "output_type": "stream",
     "text": [
      "Term= 0.52\n",
      "Term= 0.13520000000000001\n",
      "Term= 0.02343466666666667\n",
      "Term= 0.0030465066666666672\n",
      "Term= 0.0003168366933333334\n",
      "Series= 0.6819980100266667\n"
     ]
    }
   ],
   "source": [
    "#e^x series\n",
    "S=0\n",
    "for i in range(1,6,2):\n",
    "    N=(0.52)**i\n",
    "    D=1\n",
    "    for j in range (1,i+1,1):\n",
    "        D=D*j\n",
    "    T=N/D\n",
    "    S=S+T\n",
    "    print(\"Term=\",T)\n",
    "print(\"Series=\", S)   "
   ]
  },
  {
   "cell_type": "code",
   "execution_count": 22,
   "id": "84aac056",
   "metadata": {},
   "outputs": [
    {
     "name": "stdout",
     "output_type": "stream",
     "text": [
      "\n",
      "*\n",
      "**\n",
      "***\n",
      "****\n",
      "*****\n",
      "****\n",
      "***\n",
      "**\n",
      "*\n"
     ]
    }
   ],
   "source": [
    "for i in range(0,5,1):\n",
    "    for j in range(1,i+1,1):\n",
    "        print(\"*\",end=\"\")\n",
    "    print()\n",
    "for i in range(0,5,1):\n",
    "    for j in range(4,i-1,-1):\n",
    "        print(\"*\",end=\"\")\n",
    "    print()"
   ]
  },
  {
   "cell_type": "code",
   "execution_count": 33,
   "id": "eb34fd57",
   "metadata": {},
   "outputs": [
    {
     "name": "stdout",
     "output_type": "stream",
     "text": [
      "     \n",
      "    1 \n",
      "   2 3 \n",
      "  4 5 6 \n",
      " 7 8 9 10 \n"
     ]
    }
   ],
   "source": [
    "c=1\n",
    "for i in range(0,5,1):\n",
    "    for j in range(4,i-1,-1):\n",
    "        print(\" \",end=\"\")\n",
    "    for j in range(1,i+1,1):\n",
    "        print(c,end=\" \")\n",
    "        c=c+1\n",
    "    print()"
   ]
  },
  {
   "cell_type": "code",
   "execution_count": 1,
   "id": "1bfcdb1d",
   "metadata": {},
   "outputs": [
    {
     "name": "stdout",
     "output_type": "stream",
     "text": [
      "vowel\n"
     ]
    }
   ],
   "source": [
    "ch=\"e\"\n",
    "if (ch==\"a\" or ch==\"e\" or ch==\"i\" or ch==\"o\" or ch==\"u\"):\n",
    "    print(\"vowel\")"
   ]
  },
  {
   "cell_type": "markdown",
   "id": "21fb45b9",
   "metadata": {},
   "source": [
    "# Functions and Modules"
   ]
  },
  {
   "cell_type": "code",
   "execution_count": 1,
   "id": "8b256b8a",
   "metadata": {},
   "outputs": [
    {
     "name": "stdout",
     "output_type": "stream",
     "text": [
      "Hello World!\n"
     ]
    }
   ],
   "source": [
    "def greet():\n",
    "    print('Hello World!')\n",
    "# call the function\n",
    "greet()"
   ]
  },
  {
   "cell_type": "code",
   "execution_count": 2,
   "id": "908a6454",
   "metadata": {},
   "outputs": [
    {
     "name": "stdout",
     "output_type": "stream",
     "text": [
      "Hello World!\n",
      "Outside function\n"
     ]
    }
   ],
   "source": [
    "def greet():\n",
    "    print('Hello World!')\n",
    "\n",
    "# call the function\n",
    "greet()\n",
    "\n",
    "print('Outside function')"
   ]
  },
  {
   "cell_type": "code",
   "execution_count": 3,
   "id": "52faab6d",
   "metadata": {},
   "outputs": [
    {
     "name": "stdout",
     "output_type": "stream",
     "text": [
      "Sum:  9\n"
     ]
    }
   ],
   "source": [
    "# function with two arguments\n",
    "def add_numbers(num1, num2):\n",
    "    sum = num1 + num2\n",
    "    print('Sum: ',sum)\n",
    "\n",
    "# function with no argument\n",
    "#def add_numbers():\n",
    "    # code\n",
    "# function call with two values\n",
    "add_numbers(5, 4)\n",
    "\n",
    "# function call with no value\n",
    "#add_numbers()"
   ]
  },
  {
   "cell_type": "code",
   "execution_count": 4,
   "id": "6ab7db81",
   "metadata": {},
   "outputs": [
    {
     "name": "stdout",
     "output_type": "stream",
     "text": [
      "-10\n"
     ]
    }
   ],
   "source": [
    "def sub(n1,n2):\n",
    "    c=n1-n2\n",
    "    print(c)\n",
    "    return\n",
    "a=10\n",
    "b=20\n",
    "sub(a,b)"
   ]
  },
  {
   "cell_type": "code",
   "execution_count": 7,
   "id": "65f6a3cc",
   "metadata": {},
   "outputs": [
    {
     "name": "stdout",
     "output_type": "stream",
     "text": [
      "add:  30\n",
      "Sub:  -10\n",
      "multiplication:  200\n"
     ]
    }
   ],
   "source": [
    "def add(n1,n2):\n",
    "    c=n1+n2\n",
    "    print(\"add: \",c)\n",
    "    return\n",
    "\n",
    "def sub(n1,n2):\n",
    "    c=n1-n2\n",
    "    print(\"Sub: \",c)\n",
    "    return\n",
    "\n",
    "def multi(n1,n2):\n",
    "    c=n1*n2\n",
    "    print(\"multiplication: \",c)\n",
    "    return\n",
    "a=10\n",
    "b=20\n",
    "add(a,b)\n",
    "sub(a,b)\n",
    "multi(a,b)\n"
   ]
  },
  {
   "cell_type": "code",
   "execution_count": 10,
   "id": "39089a1e",
   "metadata": {},
   "outputs": [
    {
     "name": "stdout",
     "output_type": "stream",
     "text": [
      "Hello 10\n"
     ]
    }
   ],
   "source": [
    "def func(i):\n",
    "    print(\"Hello\",i)\n",
    "j=10\n",
    "func(j)"
   ]
  },
  {
   "cell_type": "code",
   "execution_count": 16,
   "id": "6d5d75f8",
   "metadata": {},
   "outputs": [
    {
     "ename": "SyntaxError",
     "evalue": "invalid syntax (3187439925.py, line 15)",
     "output_type": "error",
     "traceback": [
      "\u001b[1;36m  File \u001b[1;32m\"C:\\Users\\Admin\\AppData\\Local\\Temp\\ipykernel_22852\\3187439925.py\"\u001b[1;36m, line \u001b[1;32m15\u001b[0m\n\u001b[1;33m    print(\"n2=\",n2)\u001b[0m\n\u001b[1;37m    ^\u001b[0m\n\u001b[1;31mSyntaxError\u001b[0m\u001b[1;31m:\u001b[0m invalid syntax\n"
     ]
    }
   ],
   "source": [
    "def val(a,b):\n",
    "    print(\"a=\",a)\n",
    "    print(\"b=\",b)\n",
    "    n1=40\n",
    "    n2=50\n",
    "    print(\"n1=\",n1)\n",
    "    print(\"n2=\",n2)\n",
    "\n",
    "a=10\n",
    "b=20\n",
    "print(\"a=\",a)\n",
    "print(\"b=\",b)\n",
    "val(a,b)\n",
    "print(\"n1=\",n1)\n",
    "print(\"n2=\",n2)"
   ]
  },
  {
   "cell_type": "code",
   "execution_count": null,
   "id": "b4889e1c",
   "metadata": {},
   "outputs": [],
   "source": [
    "#function with two arguments\n",
    "def add_numbers(num1, num2):\n",
    "    sum = num1 + num2\n",
    "    print(\"Sum: \",sum)\n",
    "\n",
    "# function call with two values\n",
    "add_numbers(5, 4)"
   ]
  },
  {
   "cell_type": "code",
   "execution_count": 4,
   "id": "a213c50c",
   "metadata": {},
   "outputs": [
    {
     "name": "stdout",
     "output_type": "stream",
     "text": [
      "Sum:  9\n"
     ]
    }
   ],
   "source": [
    "# function that adds two numbers\n",
    "def add_numbers(num1, num2):\n",
    "    sum = num1 + num2\n",
    "    return sum\n",
    "\n",
    "# calling function with two values\n",
    "result = add_numbers(5, 4)\n",
    "\n",
    "print('Sum: ', result)"
   ]
  },
  {
   "cell_type": "code",
   "execution_count": 5,
   "id": "03c48f19",
   "metadata": {},
   "outputs": [
    {
     "name": "stdout",
     "output_type": "stream",
     "text": [
      "Square Root of 4 is 2.0\n",
      "2 to the power 3 is 8\n"
     ]
    }
   ],
   "source": [
    "import math\n",
    "\n",
    "# sqrt computes the square root\n",
    "square_root = math.sqrt(4)\n",
    "\n",
    "print(\"Square Root of 4 is\",square_root)\n",
    "\n",
    "# pow() comptes the power\n",
    "power = pow(2, 3)\n",
    "\n",
    "print(\"2 to the power 3 is\",power)"
   ]
  },
  {
   "cell_type": "code",
   "execution_count": 6,
   "id": "395c5b56",
   "metadata": {},
   "outputs": [
    {
     "name": "stdout",
     "output_type": "stream",
     "text": [
      "Square of 1 = 1\n",
      "Square of 2 = 4\n",
      "Square of 3 = 9\n"
     ]
    }
   ],
   "source": [
    "# function definition\n",
    "def get_square(num):\n",
    "    return num * num\n",
    "\n",
    "for i in [1,2,3]:\n",
    "    # function call\n",
    "    result = get_square(i)\n",
    "    print('Square of',i, '=',result)"
   ]
  },
  {
   "cell_type": "code",
   "execution_count": 8,
   "id": "4e1c6447",
   "metadata": {},
   "outputs": [
    {
     "name": "stdout",
     "output_type": "stream",
     "text": [
      "In fun: Good\n",
      "outside fun: Morning\n"
     ]
    },
    {
     "ename": "NameError",
     "evalue": "name 'var2' is not defined",
     "output_type": "error",
     "traceback": [
      "\u001b[1;31m---------------------------------------------------------------------------\u001b[0m",
      "\u001b[1;31mNameError\u001b[0m                                 Traceback (most recent call last)",
      "\u001b[1;32m~\\AppData\\Local\\Temp\\ipykernel_16244\\3166075694.py\u001b[0m in \u001b[0;36m<module>\u001b[1;34m\u001b[0m\n\u001b[0;32m      7\u001b[0m \u001b[0mshow\u001b[0m\u001b[1;33m(\u001b[0m\u001b[1;33m)\u001b[0m\u001b[1;33m\u001b[0m\u001b[1;33m\u001b[0m\u001b[0m\n\u001b[0;32m      8\u001b[0m \u001b[0mprint\u001b[0m\u001b[1;33m(\u001b[0m\u001b[1;34m\"outside fun:\"\u001b[0m\u001b[1;33m,\u001b[0m\u001b[0mvar1\u001b[0m\u001b[1;33m)\u001b[0m\u001b[1;33m\u001b[0m\u001b[1;33m\u001b[0m\u001b[0m\n\u001b[1;32m----> 9\u001b[1;33m \u001b[0mprint\u001b[0m\u001b[1;33m(\u001b[0m\u001b[1;34m\"var is=\"\u001b[0m\u001b[1;33m,\u001b[0m\u001b[0mvar2\u001b[0m\u001b[1;33m)\u001b[0m\u001b[1;33m\u001b[0m\u001b[1;33m\u001b[0m\u001b[0m\n\u001b[0m",
      "\u001b[1;31mNameError\u001b[0m: name 'var2' is not defined"
     ]
    }
   ],
   "source": [
    "var=\"Good\"\n",
    "def show():\n",
    "    global var1\n",
    "    var1=\"Morning\"\n",
    "    var2 =\"Hi\"\n",
    "    print(\"In fun:\",var)\n",
    "show()\n",
    "print(\"outside fun:\",var1)\n",
    "print(\"var is=\",var2)"
   ]
  },
  {
   "cell_type": "code",
   "execution_count": 4,
   "id": "a669a333",
   "metadata": {},
   "outputs": [
    {
     "name": "stdout",
     "output_type": "stream",
     "text": [
      "The array after sorting in Ascending Order by selection sort is:\n",
      "[2, 9, 10, 20, 45, 47, 50, 88, 97]\n"
     ]
    }
   ],
   "source": [
    "def selectionSort(array, size):\n",
    "    \n",
    "    for i in range(size):\n",
    "        min_index = i\n",
    " \n",
    "        for j in range(i + 1, size):\n",
    "            # select the minimum element in every iteration\n",
    "            if array[j] < array[min_index]:\n",
    "                min_index = j\n",
    "         # swapping the elements to sort the array\n",
    "        (array[i], array[min_index]) = (array[min_index], array[i])\n",
    " \n",
    "arr = [2, 45, 50, 10, 9, 88, 97, 20, 47]\n",
    "size = len(arr)\n",
    "selectionSort(arr, size)\n",
    "print('The array after sorting in Ascending Order by selection sort is:')\n",
    "print(arr)"
   ]
  },
  {
   "cell_type": "code",
   "execution_count": 4,
   "id": "9ae79e87",
   "metadata": {},
   "outputs": [
    {
     "name": "stdout",
     "output_type": "stream",
     "text": [
      "The unsorted list is:  [5, 3, 1, 70, 9, 4]\n",
      "The sorted list is:  [1, 3, 4, 5, 9, 70]\n"
     ]
    }
   ],
   "source": [
    "#Bubble Sort\n",
    "\n",
    "def bubble_sort(list1):  \n",
    "    # Outer loop for traverse the entire list  \n",
    "    for i in range(0,len(list1)-1):  \n",
    "        for j in range(len(list1)-1):  \n",
    "            if(list1[j]>list1[j+1]):  \n",
    "                temp = list1[j]  \n",
    "                list1[j] = list1[j+1]  \n",
    "                list1[j+1] = temp  \n",
    "    return list1  \n",
    "  \n",
    "list1 = [5, 3, 1, 70, 9, 4]  \n",
    "print(\"The unsorted list is: \", list1)  \n",
    "# Calling the bubble sort function  \n",
    "print(\"The sorted list is: \", bubble_sort(list1))  "
   ]
  },
  {
   "cell_type": "code",
   "execution_count": 6,
   "id": "a18e9648",
   "metadata": {},
   "outputs": [
    {
     "name": "stdout",
     "output_type": "stream",
     "text": [
      "Element is present at index 2\n"
     ]
    }
   ],
   "source": [
    "def binary_search(arr, low, high, x):\n",
    " \n",
    "    # Check base case\n",
    "    if high >= low:\n",
    " \n",
    "        mid = (high + low) // 2\n",
    " \n",
    "        # If element is present at the middle itself\n",
    "        if arr[mid] == x:\n",
    "            return mid\n",
    " \n",
    "        # If element is smaller than mid, then it can only be present in left subarray\n",
    "        elif arr[mid] > x:\n",
    "            return binary_search(arr, low, mid - 1, x)\n",
    " \n",
    "        # Else the element can only be present in right subarray\n",
    "        else:\n",
    "            return binary_search(arr, mid + 1, high, x)\n",
    "    else:\n",
    "        # Element is not present in the array\n",
    "        return -1\n",
    "arr = [ 2, 3, 4, 10, 40 ]\n",
    "x = 4\n",
    "# Function call\n",
    "result = binary_search(arr, 0, len(arr)-1, x)\n",
    "if result != -1:\n",
    "    print(\"Element is present at index\", str(result))\n",
    "else:\n",
    "    print(\"Element is not present in array\")"
   ]
  },
  {
   "cell_type": "code",
   "execution_count": 2,
   "id": "9df20a73",
   "metadata": {},
   "outputs": [
    {
     "name": "stdout",
     "output_type": "stream",
     "text": [
      "120\n"
     ]
    }
   ],
   "source": [
    "def fact(num):\n",
    "    if num==0:\n",
    "        return 1\n",
    "    else:\n",
    "        return num*fact(num-1)\n",
    "\n",
    "n=5\n",
    "f=fact(n)\n",
    "print(f)"
   ]
  }
 ],
 "metadata": {
  "kernelspec": {
   "display_name": "Python 3 (ipykernel)",
   "language": "python",
   "name": "python3"
  },
  "language_info": {
   "codemirror_mode": {
    "name": "ipython",
    "version": 3
   },
   "file_extension": ".py",
   "mimetype": "text/x-python",
   "name": "python",
   "nbconvert_exporter": "python",
   "pygments_lexer": "ipython3",
   "version": "3.9.13"
  }
 },
 "nbformat": 4,
 "nbformat_minor": 5
}
