{
 "cells": [
  {
   "cell_type": "code",
   "execution_count": 3,
   "metadata": {},
   "outputs": [
    {
     "name": "stdout",
     "output_type": "stream",
     "text": [
      "*\n",
      "**\n",
      "***\n",
      "****\n"
     ]
    }
   ],
   "source": [
    "for i in range(0,int(input())):\n",
    "    print(\"*\"*(i+1))"
   ]
  },
  {
   "cell_type": "code",
   "execution_count": 4,
   "metadata": {},
   "outputs": [
    {
     "name": "stdout",
     "output_type": "stream",
     "text": [
      "Sum=10\n"
     ]
    }
   ],
   "source": [
    "#sum of digits\n",
    "n=int(input(\"Enter number: \"))\n",
    "sum=0\n",
    "while n>0:\n",
    "    sum=sum+n%10\n",
    "    n=n//10\n",
    "print(f\"Sum={sum}\")"
   ]
  },
  {
   "cell_type": "code",
   "execution_count": 11,
   "metadata": {},
   "outputs": [
    {
     "name": "stdout",
     "output_type": "stream",
     "text": [
      "abcdef.\n",
      "cde\n"
     ]
    }
   ],
   "source": [
    "str=input()\n",
    "l=len(str)\n",
    "if(l%2!=0):\n",
    "    print(\"continue\")\n",
    "else:\n",
    "    if(str[-1]==\".\"):\n",
    "        str=str[0:l-1:1]\n",
    "        print(str)\n",
    "    else:\n",
    "        str=str+\".\"\n",
    "        print(str)\n",
    "print(str[(len(str)//2-1):(len(str)//2+2)])"
   ]
  },
  {
   "cell_type": "code",
   "execution_count": 14,
   "metadata": {},
   "outputs": [
    {
     "name": "stdout",
     "output_type": "stream",
     "text": [
      "YES\n"
     ]
    }
   ],
   "source": [
    "a=int(input(\"side1:\"))\n",
    "b=int(input(\"side2:\"))\n",
    "c=int(input(\"side3:\"))\n",
    "if c**2==(a**2+b**2) or b**2==(a**2+c**2) or a**2==(b**2+c**2):\n",
    "    print(\"YES\")\n",
    "else:\n",
    "    print(\"NO\")"
   ]
  },
  {
   "cell_type": "code",
   "execution_count": 21,
   "metadata": {},
   "outputs": [
    {
     "name": "stdout",
     "output_type": "stream",
     "text": [
      "Password is invalid\n"
     ]
    }
   ],
   "source": [
    "pwd=input(\"Password:\")\n",
    "f=False\n",
    "if len(pwd)>=8 and len(pwd)<=32:\n",
    "    if pwd[0]>='A' and pwd[0]<='z':\n",
    "        for i in pwd:\n",
    "            if i==' ' or i=='/' or i=='\\\\' or i=='=' or i=='\\'' or i=='\\\"':\n",
    "                f=False\n",
    "            else:\n",
    "                f=True\n",
    "    else:\n",
    "        f=False\n",
    "else:\n",
    "    f=False\n",
    "if f==True:\n",
    "    print(\"Password is valid\")\n",
    "else:\n",
    "    print(\"Password is invalid\")"
   ]
  },
  {
   "cell_type": "code",
   "execution_count": 23,
   "metadata": {},
   "outputs": [
    {
     "name": "stdout",
     "output_type": "stream",
     "text": [
      "asdfgh\n",
      "seftgyui\n",
      "adh\n"
     ]
    }
   ],
   "source": [
    "s1=input()\n",
    "s2=input()\n",
    "print(s1)\n",
    "print(s2)\n",
    "for i in s1:\n",
    "    for j in s2:\n",
    "        if i==j:\n",
    "            s1=s1.replace(i,\"\")\n",
    "print(s1)\n",
    "    "
   ]
  },
  {
   "cell_type": "code",
   "execution_count": 31,
   "metadata": {},
   "outputs": [
    {
     "name": "stdout",
     "output_type": "stream",
     "text": [
      "9766666634\n",
      "Invalid\n"
     ]
    }
   ],
   "source": [
    "n=input(\"Enter Mobile Number:\")\n",
    "print(n)\n",
    "f=False\n",
    "if n.isdigit() and len(n)==10 and int(n[0])>5:\n",
    "    for i in n:\n",
    "        if n.count(i)<8:\n",
    "            if i*6 in n:\n",
    "                break\n",
    "        else:\n",
    "            f=True\n",
    "if f:\n",
    "    print(\"Valid\")\n",
    "else:\n",
    "    print(\"Invalid\")"
   ]
  },
  {
   "cell_type": "code",
   "execution_count": 34,
   "metadata": {},
   "outputs": [
    {
     "name": "stdout",
     "output_type": "stream",
     "text": [
      "Hi! how are you vinayak\n",
      "vibha\n",
      "no\n"
     ]
    }
   ],
   "source": [
    "sent=input()\n",
    "print(sent)\n",
    "word=input()\n",
    "print(word)\n",
    "\n",
    "if sent.count(word)>0:\n",
    "    print(\"yes\")\n",
    "    print(sent.count(word))\n",
    "else:\n",
    "    print(\"no\")"
   ]
  },
  {
   "cell_type": "code",
   "execution_count": 39,
   "metadata": {},
   "outputs": [
    {
     "data": {
      "text/plain": [
       "1"
      ]
     },
     "execution_count": 39,
     "metadata": {},
     "output_type": "execute_result"
    }
   ],
   "source": [
    "def fact(n):\n",
    "    if n<0:\n",
    "        return -1\n",
    "    elif n==0:\n",
    "        return 1\n",
    "    else:\n",
    "        f=1\n",
    "        for i in range(1,n+1):\n",
    "            f=f*i\n",
    "        return f\n",
    "    \n",
    "fact(0)"
   ]
  },
  {
   "cell_type": "code",
   "execution_count": 49,
   "metadata": {},
   "outputs": [],
   "source": [
    "l=[2,3,4,5,6,7,8,9,10]"
   ]
  },
  {
   "cell_type": "code",
   "execution_count": 50,
   "metadata": {},
   "outputs": [],
   "source": [
    "def get_max(l):\n",
    "    mx=l[0]\n",
    "    for i in l:\n",
    "        if i>=mx:\n",
    "            mx=i\n",
    "    return mx"
   ]
  },
  {
   "cell_type": "code",
   "execution_count": 51,
   "metadata": {},
   "outputs": [],
   "source": [
    "def get_min(l):\n",
    "    mn=l[0]\n",
    "    for i in l:\n",
    "        if i<=mn:\n",
    "            mn=i\n",
    "    return mn"
   ]
  },
  {
   "cell_type": "code",
   "execution_count": 52,
   "metadata": {},
   "outputs": [],
   "source": [
    "def get_range(l):\n",
    "    mx=get_max(l)\n",
    "    mn=get_min(l)\n",
    "    return mx-mn"
   ]
  },
  {
   "cell_type": "code",
   "execution_count": 53,
   "metadata": {},
   "outputs": [
    {
     "name": "stdout",
     "output_type": "stream",
     "text": [
      "8\n"
     ]
    }
   ],
   "source": [
    "r=get_range(l)\n",
    "print(r)"
   ]
  },
  {
   "cell_type": "code",
   "execution_count": 54,
   "metadata": {},
   "outputs": [
    {
     "name": "stdout",
     "output_type": "stream",
     "text": [
      "True\n"
     ]
    }
   ],
   "source": [
    "np=input(\"Enter number:\")\n",
    "if \"TN07\" in np:\n",
    "    print(\"True\")\n",
    "else:\n",
    "    print(\"False\")"
   ]
  },
  {
   "cell_type": "code",
   "execution_count": 55,
   "metadata": {},
   "outputs": [
    {
     "name": "stdout",
     "output_type": "stream",
     "text": [
      "asdfg 2 4 dfg\n",
      "dfg dfgdfg\n"
     ]
    }
   ],
   "source": [
    "str=input()\n",
    "s=int(input())\n",
    "e=int(input())\n",
    "ss=str[s:e+1]\n",
    "print(str,s,e,ss)\n",
    "ns=''\n",
    "while len(str)>len(ns):\n",
    "    ns=ns+ss\n",
    "print(ss,ns)\n"
   ]
  },
  {
   "cell_type": "code",
   "execution_count": 77,
   "metadata": {},
   "outputs": [],
   "source": [
    "def get_pw_score(un,pw):\n",
    "    s=0\n",
    "    uf=lf=False\n",
    "    if len(pw)>7:\n",
    "        s=s+1\n",
    "    for i in range(len(pw)):\n",
    "        if pw[i].isupper():\n",
    "            uf=True\n",
    "        if pw[i].islower():\n",
    "            lf=True\n",
    "        if not pw[i].isalpha() and not pw[i].isdigit():\n",
    "            s=s+1\n",
    "    if uf and lf:\n",
    "        s=s+1\n",
    "    for i in range(len(pw)):\n",
    "        if pw[i].isdigit() and pw[i+1].isdigit() and pw[i+2].isdigit():\n",
    "            if (int(pw[i+1])==int(pw[i])+1) and (int(pw[i+2])==int(pw[i+1])+1):\n",
    "                s=0\n",
    "                break\n",
    "    return s"
   ]
  },
  {
   "cell_type": "code",
   "execution_count": 79,
   "metadata": {},
   "outputs": [
    {
     "name": "stdout",
     "output_type": "stream",
     "text": [
      "Your password is strong\n"
     ]
    }
   ],
   "source": [
    "un=input(\"USERNAME:\")\n",
    "pw=input(\"PASSWORD:\")\n",
    "\n",
    "if un==pw:\n",
    "    print(\"Password should not contain username\")\n",
    "else:\n",
    "    score=get_pw_score(un,pw)\n",
    "    if score==0:\n",
    "        print(\"Use a different password\")\n",
    "    elif score==1:\n",
    "        print(\"Your password is weak\")\n",
    "    elif score==2:\n",
    "        print(\"Your password is moderate\")\n",
    "    elif score==3:\n",
    "        print(\"Your password is strong\")\n",
    "    else:\n",
    "        print(\"Your password is very strong\")"
   ]
  }
 ],
 "metadata": {
  "kernelspec": {
   "display_name": "base",
   "language": "python",
   "name": "python3"
  },
  "language_info": {
   "codemirror_mode": {
    "name": "ipython",
    "version": 3
   },
   "file_extension": ".py",
   "mimetype": "text/x-python",
   "name": "python",
   "nbconvert_exporter": "python",
   "pygments_lexer": "ipython3",
   "version": "3.11.4"
  },
  "orig_nbformat": 4
 },
 "nbformat": 4,
 "nbformat_minor": 2
}
